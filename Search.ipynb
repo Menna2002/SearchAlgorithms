{
 "cells": [
  {
   "cell_type": "code",
   "execution_count": 1,
   "metadata": {},
   "outputs": [],
   "source": [
    "import queue as pq"
   ]
  },
  {
   "cell_type": "markdown",
   "metadata": {},
   "source": [
    "## Breadth First Search (BFS)"
   ]
  },
  {
   "cell_type": "code",
   "execution_count": 2,
   "metadata": {},
   "outputs": [
    {
     "name": "stdout",
     "output_type": "stream",
     "text": [
      "BFS :  ['A', 'B', 'D', 'E', 'F', 'C', 'G']\n"
     ]
    }
   ],
   "source": [
    "# define a graph\n",
    "graph={'A':['B','D'],'B':['E'],'C':['G'],'D':['F'],'E':['C','G'],'F':[],'G':[]}\n",
    "\n",
    "def BFS(grath,start,goal):\n",
    "    visitedNodes=[]\n",
    "    queue=[start]\n",
    "    while queue:\n",
    "        node=queue.pop(0)\n",
    "        if node in visitedNodes:\n",
    "            continue\n",
    "        else:\n",
    "            visitedNodes.append(node)\n",
    "        if node==goal:\n",
    "            return visitedNodes\n",
    "        else:\n",
    "            neighbours=grath[node]\n",
    "            for nodes in neighbours:\n",
    "                queue.append(nodes)\n",
    "print('BFS : ',BFS(graph,'A','G'))"
   ]
  },
  {
   "cell_type": "markdown",
   "metadata": {},
   "source": [
    "## Depth First Search (DFS)"
   ]
  },
  {
   "cell_type": "code",
   "execution_count": 3,
   "metadata": {},
   "outputs": [
    {
     "name": "stdout",
     "output_type": "stream",
     "text": [
      "DFS :  ['A', 'B', 'E', 'C', 'G']\n"
     ]
    }
   ],
   "source": [
    "def DFS(graph,start,goal,visitedNodes):\n",
    "    while goal not in visitedNodes:\n",
    "        node = start\n",
    "        if node not in visitedNodes:\n",
    "            visitedNodes.append(node)\n",
    "            for neighbour in graph[node]:\n",
    "                DFS(graph, neighbour,goal,visitedNodes)\n",
    "        return visitedNodes\n",
    "def path():\n",
    "    return []\n",
    "print('DFS : ', DFS(graph,'A','G',path()))"
   ]
  },
  {
   "cell_type": "markdown",
   "metadata": {},
   "source": [
    "## Uniform  Cost Search (UCS)"
   ]
  },
  {
   "cell_type": "code",
   "execution_count": 4,
   "metadata": {},
   "outputs": [
    {
     "name": "stdout",
     "output_type": "stream",
     "text": [
      "ucs : A  B  D  F  \n",
      "cost :  11\n"
     ]
    }
   ],
   "source": [
    "# define a graph\n",
    "graph_gn = {'A':[(4,'B'),(3,'C'),(7,'E')]\n",
    "            ,'B':[(4,'A'),(6,'C'),(5,'D')]\n",
    "            ,'C':[(3,'A'),(6,'B'),(11,'D'),(8,'E')]\n",
    "            ,'D':[(5,'B'),(11,'C'),(2,'E'),(10,'G'),(2,'F')]\n",
    "            ,'E':[(7,'A'),(8,'C'),(2,'D'),(5,'G')]\n",
    "            ,'F':[(2,'D'),(3,'G')]\n",
    "            ,'G':[(10,'D'),(5,'E'),(3,'F')]}\n",
    "\n",
    "def ucs(graph, start, goal):\n",
    "    explored = []\n",
    "    q = pq.PriorityQueue()\n",
    "    q.put((0,start))\n",
    "    parents = {(0,start):None}\n",
    "    while q:\n",
    "        next_node = q.get()\n",
    "        node = next_node[1]\n",
    "        node_gn = next_node[0]\n",
    "        if node not in explored:\n",
    "            explored.append(node)\n",
    "        else:\n",
    "            continue\n",
    "        if node == goal:\n",
    "            path = [(node_gn,node)]\n",
    "            prev_node = (node_gn,node)\n",
    "            while prev_node != (0,start):\n",
    "                parent = parents[prev_node]\n",
    "                path.append(parent)\n",
    "                prev_node = parent\n",
    "            path.reverse()\n",
    "            return path\n",
    "        else:\n",
    "            child = graph[node]\n",
    "            child.sort()\n",
    "            for (cost, nodes) in child:\n",
    "                cost = node_gn + cost\n",
    "                if (cost,nodes) not in parents:\n",
    "                    parents[(cost,nodes)] = (node_gn,node)\n",
    "                q.put((cost, nodes))\n",
    "def print_path(path):\n",
    "    for(cost,nodes) in path:\n",
    "        print(nodes,end='  ')\n",
    "\n",
    "def print_cost(path):\n",
    "        print('\\ncost : ',path[-1][0])\n",
    "\n",
    "ucs_path = ucs(graph_gn,'A', 'F')\n",
    "\n",
    "print('ucs : ',end='')\n",
    "print_path(ucs_path)\n",
    "print_cost(ucs_path)"
   ]
  },
  {
   "cell_type": "markdown",
   "metadata": {},
   "source": [
    "## Greedy Search\n",
    "The recursion in this function ensures that each step of the search process explores the node with the lowest heuristic value next. The explored list is updated in each recursive call and is passed along to ensure continuity. Once the goal is reached, the final explored path is returned, showing the sequence of nodes visited in the greedy search."
   ]
  },
  {
   "cell_type": "code",
   "execution_count": 5,
   "metadata": {},
   "outputs": [
    {
     "name": "stdout",
     "output_type": "stream",
     "text": [
      "greedy : A  B  C  E  G  F  "
     ]
    }
   ],
   "source": [
    "# define a graph\n",
    "graph_hn = {'A':[(30,'B'),(44,'E'),(56,'C')]\n",
    "            ,'B':[(28,'A'),(56,'C'),(60,'D')]\n",
    "            ,'C':[(28,'A'),(30,'B'),(44,'E'),(60,'D')]\n",
    "            ,'D':[(0,'F'),(30,'B'),(36,'G'),(44,'E'),(56,'C')]\n",
    "            ,'E':[(28,'A'),(36,'G'),(56,'C'),(60,'D')]\n",
    "            ,'F':[(36,'G'),(60,'D')]\n",
    "            ,'G':[(0,'F'),(44,'E'),(60,'D')]}\n",
    "\n",
    "def greedy(graph,start,goal,explored=[]):\n",
    "    while goal not in explored:\n",
    "        q = pq.PriorityQueue()\n",
    "        if start not in explored:\n",
    "            explored.append(start)\n",
    "        child = graph[start]\n",
    "        for (h,node) in child:\n",
    "            if node not in explored:\n",
    "                q.put((h,node))\n",
    "        new = q.get()\n",
    "        greedy(graph,new[1],goal,explored)\n",
    "        return explored\n",
    "\n",
    "def print_greedy(path):\n",
    "    for i in range(len(path)):\n",
    "        print(path[i],end='  ')\n",
    "\n",
    "print('greedy : ',end='')\n",
    "print_greedy(greedy(graph_hn,'A','F'))"
   ]
  },
  {
   "cell_type": "markdown",
   "metadata": {},
   "source": [
    "## Greedy Search (Another methodology)\n",
    "The key characteristic of greedy search is that it always chooses the next node to explore based solely on which one appears to be closest to the goal, according to the heuristic function, without considering the overall cost of the path taken so far."
   ]
  },
  {
   "cell_type": "code",
   "execution_count": 6,
   "metadata": {},
   "outputs": [
    {
     "name": "stdout",
     "output_type": "stream",
     "text": [
      "greedy : A  E  G  F  "
     ]
    }
   ],
   "source": [
    "def greedy(graph,start,goal):\n",
    "    explored = []\n",
    "    q = pq.PriorityQueue()\n",
    "    q.put((0,start))\n",
    "    parents = {(0,start):None}\n",
    "    while q:\n",
    "        next_node = q.get()\n",
    "        node = next_node[1]\n",
    "        node_hn = next_node[0]\n",
    "        if node not in explored:\n",
    "            explored.append(node)\n",
    "        else:\n",
    "            continue\n",
    "        if node == goal:\n",
    "            path = [(node_hn,node)]\n",
    "            prev_node = (node_hn,node)\n",
    "            while prev_node != (0,start):\n",
    "                parent = parents[prev_node]\n",
    "                path.append(parent)\n",
    "                prev_node = parent\n",
    "            path.reverse()\n",
    "            return path\n",
    "        else:\n",
    "            child = graph[node]\n",
    "            child.sort()\n",
    "            for (h, nodes) in child:\n",
    "                if (h,nodes) not in parents:\n",
    "                    parents[(h,nodes)] = (node_hn,node)\n",
    "                q.put((h, nodes))\n",
    "\n",
    "def print_path(path):\n",
    "    for(cost,nodes) in path:\n",
    "        print(nodes,end='  ')\n",
    "\n",
    "print('greedy : ',end='')\n",
    "print_path(greedy(graph_hn,'A','F'))"
   ]
  },
  {
   "cell_type": "markdown",
   "metadata": {},
   "source": [
    "## A Star (A*)"
   ]
  },
  {
   "cell_type": "code",
   "execution_count": 7,
   "metadata": {},
   "outputs": [
    {
     "name": "stdout",
     "output_type": "stream",
     "text": [
      "A* : S  A  D  E  F  G  \n",
      "cost :  13.0\n"
     ]
    }
   ],
   "source": [
    "graph_gn = {'S':[(2,'A'),(5,'D')]\n",
    "            ,'A':[(1,'B'),(2,'D'),(2,'S')]\n",
    "            ,'B':[(1,'A'),(4,'C'),(5,'E')]\n",
    "            ,'C':[(4,'B')]\n",
    "            ,'D':[(2,'A'),(2,'E'),(2,'S')]\n",
    "            ,'E':[(2,'D'),(4,'F'),(5,'B')]\n",
    "            ,'F':[(3,'G'),(4,'E')]}\n",
    "\n",
    "\n",
    "h_value = {'S':11.0\n",
    "            ,'A':10.4\n",
    "            ,'B':6.7\n",
    "            ,'C':4.0\n",
    "            ,'D':8.4\n",
    "            ,'E':6.9\n",
    "            ,'F':3.0\n",
    "            ,'G':0}\n",
    "\n",
    "def A_star(graph_g,h,start,goal):\n",
    "    explored = []\n",
    "    q = pq.PriorityQueue()\n",
    "    q.put((h[start],start))\n",
    "    parents = {(h[start],start): None}\n",
    "    while q:\n",
    "        next_node = q.get()\n",
    "        node = next_node[1]\n",
    "        if node == start:\n",
    "            node_fn = h[start]\n",
    "        else:\n",
    "            node_fn = next_node[0]\n",
    "        if node not in explored:\n",
    "            explored.append(node)\n",
    "        else:\n",
    "            continue\n",
    "        if node == goal:\n",
    "            path = [(node_fn,node)]\n",
    "            prev_node = (node_fn,node)\n",
    "            while prev_node != (h[start],start):\n",
    "                parent = parents[prev_node]\n",
    "                path.append(parent)\n",
    "                prev_node = parent\n",
    "            path.reverse()\n",
    "            return path\n",
    "        else:\n",
    "            child_g = graph_g[node]\n",
    "            for (cost, nodes) in child_g:\n",
    "                fn = (node_fn-h[node]) + cost + h[nodes]\n",
    "                if (fn,nodes) not in parents:\n",
    "                    parents[(fn,nodes)] = (node_fn,node)\n",
    "                q.put((fn,nodes))\n",
    "\n",
    "def print_path(path):\n",
    "    for(cost,nodes) in path:\n",
    "        print(nodes,end='  ')\n",
    "\n",
    "def print_cost(path):\n",
    "        print('\\ncost : ',path[-1][0])\n",
    "\n",
    "print('A* : ',end='')\n",
    "print_path(A_star(graph_gn,h_value,'S', 'G'))\n",
    "print_cost(A_star(graph_gn,h_value,'S', 'G'))"
   ]
  },
  {
   "cell_type": "code",
   "execution_count": null,
   "metadata": {},
   "outputs": [],
   "source": []
  }
 ],
 "metadata": {
  "kernelspec": {
   "display_name": "Python 3",
   "language": "python",
   "name": "python3"
  },
  "language_info": {
   "codemirror_mode": {
    "name": "ipython",
    "version": 3
   },
   "file_extension": ".py",
   "mimetype": "text/x-python",
   "name": "python",
   "nbconvert_exporter": "python",
   "pygments_lexer": "ipython3",
   "version": "3.11.5"
  }
 },
 "nbformat": 4,
 "nbformat_minor": 2
}
