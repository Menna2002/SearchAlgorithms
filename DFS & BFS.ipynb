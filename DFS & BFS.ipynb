{
 "cells": [
  {
   "cell_type": "code",
   "execution_count": 11,
   "id": "b8516df9",
   "metadata": {},
   "outputs": [],
   "source": [
    "graph={'A':['B','D'],'B':['E'],'C':['G'],'D':['F'],'E':['C','G'],'F':[],'G':[]}"
   ]
  },
  {
   "cell_type": "code",
   "execution_count": 12,
   "id": "096afc88",
   "metadata": {},
   "outputs": [],
   "source": [
    "def BFS(grath,start,goal):\n",
    "    visitedNodes=[]\n",
    "    queue=[start]\n",
    "    while queue:\n",
    "        node=queue.pop(0)\n",
    "        if node in visitedNodes:\n",
    "            continue\n",
    "        else:\n",
    "             visitedNodes.append(node)\n",
    "        if node==goal:\n",
    "             return visitedNodes\n",
    "        else:\n",
    "            neighbours=grath[node]\n",
    "            for nodes in neighbours:\n",
    "                queue.append(nodes)                "
   ]
  },
  {
   "cell_type": "code",
   "execution_count": 13,
   "id": "8952b5b5",
   "metadata": {},
   "outputs": [],
   "source": [
    "def DFS(graph,start,goal,visitedNodes):\n",
    "   while goal not in visitedNodes:\n",
    "       node = start\n",
    "       if node not in visitedNodes:\n",
    "           visitedNodes.append(node)\n",
    "           for neighbour in graph[node]:\n",
    "              DFS(graph, neighbour,goal,visitedNodes)\n",
    "       return visitedNodes\n",
    "\n",
    "def path():\n",
    "    return []"
   ]
  },
  {
   "cell_type": "code",
   "execution_count": 14,
   "id": "be78b0a2",
   "metadata": {
    "scrolled": true
   },
   "outputs": [
    {
     "name": "stdout",
     "output_type": "stream",
     "text": [
      "BFS :  ['A', 'B', 'D', 'E', 'F', 'C', 'G']\n",
      "DFS :  ['A', 'B', 'E', 'C', 'G']\n"
     ]
    }
   ],
   "source": [
    "print('BFS : ',BFS(graph,'A','G'))\n",
    "print('DFS : ', DFS(graph,'A','G',path()))"
   ]
  }
 ],
 "metadata": {
  "kernelspec": {
   "display_name": "Python 3 (ipykernel)",
   "language": "python",
   "name": "python3"
  },
  "language_info": {
   "codemirror_mode": {
    "name": "ipython",
    "version": 3
   },
   "file_extension": ".py",
   "mimetype": "text/x-python",
   "name": "python",
   "nbconvert_exporter": "python",
   "pygments_lexer": "ipython3",
   "version": "3.9.12"
  }
 },
 "nbformat": 4,
 "nbformat_minor": 5
}
